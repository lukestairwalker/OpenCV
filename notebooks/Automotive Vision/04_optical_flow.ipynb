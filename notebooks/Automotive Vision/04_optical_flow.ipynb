{
 "cells": [
  {
   "cell_type": "markdown",
   "id": "d8ec19bd",
   "metadata": {},
   "source": [
    "# Optical Flow"
   ]
  },
  {
   "cell_type": "markdown",
   "id": "4d3ce374",
   "metadata": {},
   "source": [
    "**Optical flow is used for:**\n",
    "\n",
    "finding a correlation between mechanical movement and change of light (image intensity / brightness). The goal is to find the direction and speed for each image point. \n",
    "\n",
    "Sometimes illusions occur, when optical flow is detected even though there is no mechanical movement (or vice versa)."
   ]
  },
  {
   "cell_type": "markdown",
   "id": "52d6a090",
   "metadata": {},
   "source": [
    "How do you calculate it?\n",
    "\n",
    "1. Assumption:\n",
    "The intensity of a point of interest stays the same.\n",
    "\n",
    "$$I(x,y,t)=I(x+\\delta x, y+\\delta y,t+\\delta t)$$\n",
    "\n",
    "2. Assumption:\n",
    "The change in x and y direction as well as the time step are small\n",
    "$$\\delta x, \\delta y,\\delta t<1$$\n",
    "\n",
    "then you can use the taylor series approximation which assumes the square of something small is almost zero:\n",
    "$${\\delta x}^2 \t\\approx {\\delta y}^2\\approx{\\delta t}^2\\approx 0$$"
   ]
  },
  {
   "cell_type": "markdown",
   "id": "06b0ac68",
   "metadata": {},
   "source": []
  }
 ],
 "metadata": {
  "language_info": {
   "name": "python"
  }
 },
 "nbformat": 4,
 "nbformat_minor": 5
}
