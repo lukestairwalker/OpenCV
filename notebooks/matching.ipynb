{
 "cells": [
  {
   "cell_type": "markdown",
   "id": "2dfc3a9c",
   "metadata": {},
   "source": [
    "# Template Matching"
   ]
  },
  {
   "cell_type": "markdown",
   "id": "4bf9aa17",
   "metadata": {},
   "source": [
    "Similarity Metrics for Template Matching:\n",
    "- SSD\n",
    "- SAD\n",
    "- NCC"
   ]
  },
  {
   "cell_type": "markdown",
   "id": "6c0f227f",
   "metadata": {},
   "source": [
    "<a>\n",
    "  <img src=\"../images/matching_metrices.png\" alt=\"Pinhole camera\" width=\"500\" >\n",
    "</a>"
   ]
  },
  {
   "cell_type": "markdown",
   "id": "53c2fdd4",
   "metadata": {},
   "source": [
    "# Feature & Descriptor Matching"
   ]
  }
 ],
 "metadata": {
  "language_info": {
   "name": "python"
  }
 },
 "nbformat": 4,
 "nbformat_minor": 5
}
