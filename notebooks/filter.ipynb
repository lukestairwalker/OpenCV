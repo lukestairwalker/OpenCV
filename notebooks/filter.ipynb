{
 "cells": [
  {
   "cell_type": "markdown",
   "id": "cc5b2719",
   "metadata": {},
   "source": [
    "# Filter\n",
    "Using convolution with a filter on a grayscale image, you can detect edges in an image. The value which is displayed in a grayscale image is the intensity (Helligkeit).\n",
    "- Sobel → first derivative of the image (detects edges; partial derivative in x and y direction → sobel_x filter for vertical edges and sobel_y for horizontal edges)\n",
    "- LaPlace → second derivative of the image (detects strong changes in intensity → often edges or corners)\n",
    "- Gaussian → smoothing with a gaussian function"
   ]
  },
  {
   "cell_type": "markdown",
   "id": "99e68702",
   "metadata": {},
   "source": [
    "## Filter combinations\n",
    "\n",
    "- Laplacian of Gaussian (LoG) = Laplace after Gauss\n",
    "- Canny =\n",
    "  1. smoothing (Gaussian)\n",
    "  2. calculate gradients (Sobel Filter)\n",
    "  3. Non-Maximum Suppression → thins out edges\n",
    "  4. Hysteresis threshold → to select strong / weak edges\n"
   ]
  }
 ],
 "metadata": {
  "language_info": {
   "name": "python"
  }
 },
 "nbformat": 4,
 "nbformat_minor": 5
}
