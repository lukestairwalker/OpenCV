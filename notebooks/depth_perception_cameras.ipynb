{
 "cells": [
  {
   "cell_type": "markdown",
   "id": "84cc0a52",
   "metadata": {},
   "source": [
    "<a>\n",
    "  <img src=\"../images/depth_sensors.png\" alt=\"Pinhole camera\" width=\"980\" style=\"background-color: white;padding: 10px;\">\n",
    "</a>"
   ]
  },
  {
   "cell_type": "markdown",
   "id": "8bfb33fb",
   "metadata": {},
   "source": [
    "- Stereo-Kamera: Zwei Kameras, um 3D-Tiefeninformation zu gewinnen\n",
    "- Time-of-Flight (ToF): Misst direkt die Laufzeit des Lichts → Tiefenbild\n",
    "- Structured Light: Projiziert Muster zur Tiefenmessung"
   ]
  },
  {
   "cell_type": "markdown",
   "id": "d3ff4c1b",
   "metadata": {},
   "source": [
    "# Passive Stereo"
   ]
  },
  {
   "cell_type": "markdown",
   "id": "a4822074",
   "metadata": {},
   "source": [
    "<a>\n",
    "  <img src=\"../images/triangulation.png\" alt=\"Pinhole camera\" width=\"1000\">\n",
    "</a>"
   ]
  },
  {
   "cell_type": "markdown",
   "id": "62cde848",
   "metadata": {},
   "source": [
    "$u_l - u_r$ is the disparity. This is the difference int the u-coordinate of the same scene point in the two images - left and right.\n",
    "\n"
   ]
  },
  {
   "cell_type": "markdown",
   "id": "d9c80b3a",
   "metadata": {},
   "source": [
    "<a>\n",
    "  <img src=\"../images/epipolar_constraint.png\" alt=\"Pinhole camera\" width=\"1000\">\n",
    "</a>"
   ]
  },
  {
   "cell_type": "markdown",
   "id": "62604c9d",
   "metadata": {},
   "source": [
    "### Essential Matrix\n",
    "1. write the epipolar constraint **$x_l \\cdot (t \\times x_l)=0$** in matrix form \n",
    "\n",
    "$$\n",
    "    \\begin{bmatrix}\n",
    "    x_l & y_l & z_l \\\\\n",
    "    \\end{bmatrix} \n",
    "    \\cdot\n",
    "    \\begin{bmatrix}\n",
    "    t_y \\cdot z_l & - t_z \\cdot y_l\\\\\n",
    "    t_z \\cdot x_l & - t_x \\cdot z_l\\\\\n",
    "    t_x \\cdot y_l & - t_y \\cdot x_l \\\\\n",
    "    \\end{bmatrix}\n",
    "    = 0 = \n",
    "    \\begin{bmatrix}\n",
    "    x_l & y_l & z_l \\\\\n",
    "    \\end{bmatrix} \n",
    "    \\cdot\n",
    "    \\begin{bmatrix}\n",
    "    0 & -t_z & t_y\\\\\n",
    "    t_z & 0 & -t_x\\\\\n",
    "    -t_y & t_x & 0\\\\\n",
    "    \\end{bmatrix}\n",
    "    \\cdot\n",
    "    \\begin{bmatrix}\n",
    "    x_l\\\\\n",
    "    y_l\\\\\n",
    "    z_l\\\\\n",
    "    \\end{bmatrix}\\tag{1}\n",
    "$$"
   ]
  },
  {
   "cell_type": "markdown",
   "id": "90471ec0",
   "metadata": {},
   "source": [
    "2. consider the correlation between the scene point by the left and the rigth camera **$x_l = R \\cdot x_r + t$**   \n",
    "\n",
    "$$\n",
    "    \\begin{bmatrix}\n",
    "    x_l\\\\\n",
    "    y_l\\\\\n",
    "    z_l\\\\\n",
    "    \\end{bmatrix}\n",
    "    = \n",
    "    \\begin{bmatrix}\n",
    "    r_{11} & r_{12} & r_{13}\\\\\n",
    "    r_{21} & r_{22} & r_{23}\\\\\n",
    "    r_{31} & r_{32} & r_{33}\\\\\n",
    "    \\end{bmatrix}\n",
    "    \\cdot\n",
    "    \\begin{bmatrix}\n",
    "    x_r\\\\\n",
    "    y_r\\\\\n",
    "    z_r\\\\\n",
    "    \\end{bmatrix}\n",
    "    + \n",
    "    \\begin{bmatrix}\n",
    "    t_x\\\\\n",
    "    t_y\\\\\n",
    "    t_z\\\\\n",
    "    \\end{bmatrix}\\tag{2}\n",
    "$$"
   ]
  },
  {
   "cell_type": "markdown",
   "id": "652e957f",
   "metadata": {},
   "source": [
    "3. Gleichungen $(1)$ und $(2)$ gleichsetzen"
   ]
  },
  {
   "cell_type": "markdown",
   "id": "b747864b",
   "metadata": {},
   "source": [
    "### Youtube Video Explanation"
   ]
  },
  {
   "cell_type": "markdown",
   "id": "9665345b",
   "metadata": {},
   "source": [
    "^\n",
    "\n",
    "<a href=\"https://www.youtube.com/watch?v=hUVdUDMQ6dwWDAyDabn1Mg\" target=\"_blank\">\n",
    "<img src=\"https://img.youtube.com/vi/dUDMQ6dwWDA/maxresdefault.jpg\" alt=\"Uncalibrated Stereo\" width=\"250\">\n",
    "</a>\n",
    "\n",
    "<a href=\"https://www.youtube.com/watch?v=v30I-BqGfuI\" target=\"_blank\">\n",
    "<img src=\"https://img.youtube.com/vi/v30I-BqGfuI/maxresdefault.jpg\" alt=\"Problem of Uncalibrated Stereo\" width=\"250\">\n",
    "</a>\n",
    "\n",
    "<a href=\"https://www.youtube.com/watch?v=6kpBqfgSPRc\" target=\"_blank\">\n",
    "<img src=\"https://img.youtube.com/vi/6kpBqfgSPRc/maxresdefault.jpg\" alt=\"Epipolar Geometry\" width=\"250\">\n",
    "</a>\n",
    "\n",
    "<a href=\"https://www.youtube.com/watch?v=_rfKoEBGK7E\" target=\"_blank\">\n",
    "<img src=\"https://img.youtube.com/vi/_rfKoEBGK7E/maxresdefault.jpg\" alt=\"\n",
    "Stereo Vision in Nature\" width=\"250\">\n",
    "</a>\n",
    "\n",
    "<a href=\"https://www.youtube.com/watch?v=izpYAwJ0Hlw\" target=\"_blank\">\n",
    "<img src=\"https://img.youtube.com/vi/izpYAwJ0Hlw/maxresdefault.jpg\" alt=\"Estimating Fundamental Matrix\" width=\"250\">\n",
    "</a>\n",
    "\n",
    "<a href=\"https://www.youtube.com/watch?v=erpiFudDBlg\" target=\"_blank\">\n",
    "<img src=\"https://img.youtube.com/vi/erpiFudDBlg/maxresdefault.jpg\" alt=\"Finding Correspondences\" width=\"250\">\n",
    "</a>\n",
    "\n",
    "<a href=\"https://www.youtube.com/watch?v=OYwm4VM6uNg\" target=\"_blank\">\n",
    "<img src=\"https://img.youtube.com/vi/OYwm4VM6uNg/maxresdefault.jpg\" alt=\"Computing Depth\" width=\"250\">\n",
    "</a>"
   ]
  },
  {
   "cell_type": "markdown",
   "id": "3f299eb0",
   "metadata": {},
   "source": [
    "# Time of Flight"
   ]
  },
  {
   "cell_type": "markdown",
   "id": "3ea61315",
   "metadata": {},
   "source": [
    "# Structured Light"
   ]
  },
  {
   "cell_type": "markdown",
   "id": "753b8211",
   "metadata": {},
   "source": [
    "<a href=\"https://www.youtube.com/watch?v=_Vo9Vcecwo0\" target=\"_blank\">\n",
    "<img src=\"https://img.youtube.com/vi/_Vo9Vcecwo0/maxresdefault.jpg\" alt=\"Simple Stereo\" width=\"250\">\n",
    "</a>"
   ]
  }
 ],
 "metadata": {
  "kernelspec": {
   "display_name": "Jupyter notebook 6.4.12",
   "language": "python",
   "name": "python3"
  },
  "language_info": {
   "codemirror_mode": {
    "name": "ipython",
    "version": 3
   },
   "file_extension": ".py",
   "mimetype": "text/x-python",
   "name": "python",
   "nbconvert_exporter": "python",
   "pygments_lexer": "ipython3",
   "version": "3.10.15"
  }
 },
 "nbformat": 4,
 "nbformat_minor": 5
}
