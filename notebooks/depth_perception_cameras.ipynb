{
 "cells": [
  {
   "cell_type": "markdown",
   "id": "84cc0a52",
   "metadata": {},
   "source": [
    "<a>\n",
    "  <img src=\"../images/depth_sensors.png\" alt=\"Pinhole camera\" width=\"980\" style=\"background-color: white;padding: 10px;\">\n",
    "</a>"
   ]
  },
  {
   "cell_type": "markdown",
   "id": "8bfb33fb",
   "metadata": {},
   "source": [
    "- Stereo-Kamera: Zwei Kameras, um 3D-Tiefeninformation zu gewinnen\n",
    "- Time-of-Flight (ToF): Misst direkt die Laufzeit des Lichts → Tiefenbild\n",
    "- Structured Light: Projiziert Muster zur Tiefenmessung"
   ]
  },
  {
   "cell_type": "markdown",
   "id": "d3ff4c1b",
   "metadata": {},
   "source": [
    "# Passive Stereo"
   ]
  },
  {
   "cell_type": "markdown",
   "id": "a4822074",
   "metadata": {},
   "source": [
    "<a>\n",
    "  <img src=\"../images/triangulation.png\" alt=\"Pinhole camera\" width=\"1000\">\n",
    "</a>"
   ]
  },
  {
   "cell_type": "markdown",
   "id": "62cde848",
   "metadata": {},
   "source": [
    "$u_l - u_r$ is the disparity. This is the difference int the u-coordinate of the same scene point in the two images - left and right."
   ]
  },
  {
   "cell_type": "markdown",
   "id": "b747864b",
   "metadata": {},
   "source": [
    "## Youtube Video Explanation"
   ]
  },
  {
   "cell_type": "markdown",
   "id": "9665345b",
   "metadata": {},
   "source": [
    "<a href=\"https://www.youtube.com/watch?v=hUVyDabn1Mg\" target=\"_blank\">\n",
    "<img src=\"https://img.youtube.com/vi/hUVyDabn1Mg/maxresdefault.jpg\" alt=\"Simple Stereo\" width=\"250\">\n",
    "</a>\n",
    "\n",
    "<a href=\"https://www.youtube.com/watch?v=hUVdUDMQ6dwWDAyDabn1Mg\" target=\"_blank\">\n",
    "<img src=\"https://img.youtube.com/vi/dUDMQ6dwWDA/maxresdefault.jpg\" alt=\"Uncalibrated Stereo\" width=\"250\">\n",
    "</a>\n",
    "\n",
    "<a href=\"https://www.youtube.com/watch?v=v30I-BqGfuI\" target=\"_blank\">\n",
    "<img src=\"https://img.youtube.com/vi/v30I-BqGfuI/maxresdefault.jpg\" alt=\"Problem of Uncalibrated Stereo\" width=\"250\">\n",
    "</a>\n",
    "\n",
    "<a href=\"https://www.youtube.com/watch?v=6kpBqfgSPRc\" target=\"_blank\">\n",
    "<img src=\"https://img.youtube.com/vi/6kpBqfgSPRc/maxresdefault.jpg\" alt=\"Epipolar Geometry\" width=\"250\">\n",
    "</a>\n",
    "\n",
    "<a href=\"https://www.youtube.com/watch?v=_rfKoEBGK7E\" target=\"_blank\">\n",
    "<img src=\"https://img.youtube.com/vi/_rfKoEBGK7E/maxresdefault.jpg\" alt=\"\n",
    "Stereo Vision in Nature\" width=\"250\">\n",
    "</a>\n",
    "\n",
    "<a href=\"https://www.youtube.com/watch?v=izpYAwJ0Hlw\" target=\"_blank\">\n",
    "<img src=\"https://img.youtube.com/vi/izpYAwJ0Hlw/maxresdefault.jpg\" alt=\"Estimating Fundamental Matrix\" width=\"250\">\n",
    "</a>\n",
    "\n",
    "<a href=\"https://www.youtube.com/watch?v=erpiFudDBlg\" target=\"_blank\">\n",
    "<img src=\"https://img.youtube.com/vi/erpiFudDBlg/maxresdefault.jpg\" alt=\"Finding Correspondences\" width=\"250\">\n",
    "</a>\n",
    "\n",
    "<a href=\"https://www.youtube.com/watch?v=OYwm4VM6uNg\" target=\"_blank\">\n",
    "<img src=\"https://img.youtube.com/vi/OYwm4VM6uNg/maxresdefault.jpg\" alt=\"Computing Depth\" width=\"250\">\n",
    "</a>"
   ]
  },
  {
   "cell_type": "markdown",
   "id": "3f299eb0",
   "metadata": {},
   "source": [
    "# Time of Flight"
   ]
  },
  {
   "cell_type": "markdown",
   "id": "3ea61315",
   "metadata": {},
   "source": [
    "# Structured Light"
   ]
  }
 ],
 "metadata": {
  "language_info": {
   "name": "python"
  }
 },
 "nbformat": 4,
 "nbformat_minor": 5
}
