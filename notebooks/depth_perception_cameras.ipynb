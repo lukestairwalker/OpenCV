{
 "cells": [
  {
   "cell_type": "markdown",
   "id": "8bfb33fb",
   "metadata": {},
   "source": [
    "\t•\tStereo-Kamera: Zwei Kameras, um 3D-Tiefeninformation zu gewinnen\n",
    "\t•\tTime-of-Flight (ToF): Misst direkt die Laufzeit des Lichts → Tiefenbild\n",
    "\t•\tStructured Light: Projiziert Muster zur Tiefenmessung"
   ]
  }
 ],
 "metadata": {
  "language_info": {
   "name": "python"
  }
 },
 "nbformat": 4,
 "nbformat_minor": 5
}
