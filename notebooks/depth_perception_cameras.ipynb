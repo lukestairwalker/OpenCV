{
 "cells": [
  {
   "cell_type": "markdown",
   "id": "9665345b",
   "metadata": {},
   "source": [
    "<a href=\"https://www.youtube.com/watch?v=hUVyDabn1Mg\" target=\"_blank\">\n",
    "<img src=\"https://img.youtube.com/vi/hUVyDabn1Mg/maxresdefault.jpg\" alt=\"Simple Stereo\" width=\"300\">\n",
    "</a>\n",
    "\n",
    "<a href=\"https://www.youtube.com/watch?v=hUVdUDMQ6dwWDAyDabn1Mg\" target=\"_blank\">\n",
    "<img src=\"https://img.youtube.com/vi/dUDMQ6dwWDA/maxresdefault.jpg\" alt=\"Uncalibrated Stereo\" width=\"300\">\n",
    "</a>\n",
    "\n",
    "<a href=\"https://www.youtube.com/watch?v=v30I-BqGfuI\" target=\"_blank\">\n",
    "<img src=\"https://img.youtube.com/vi/v30I-BqGfuI/maxresdefault.jpg\" alt=\"Problem of Uncalibrated Stereo\" width=\"300\">\n",
    "</a>\n",
    "\n",
    "<a href=\"https://www.youtube.com/watch?v=6kpBqfgSPRc\" target=\"_blank\">\n",
    "<img src=\"https://img.youtube.com/vi/6kpBqfgSPRc/maxresdefault.jpg\" alt=\"Epipolar Geometry\" width=\"300\">\n",
    "</a>\n",
    "\n",
    "<a href=\"https://www.youtube.com/watch?v=_rfKoEBGK7E\" target=\"_blank\">\n",
    "<img src=\"https://img.youtube.com/vi/_rfKoEBGK7E/maxresdefault.jpg\" alt=\"\n",
    "Stereo Vision in Nature\" width=\"300\">\n",
    "</a>\n",
    "\n",
    "<a href=\"https://www.youtube.com/watch?v=izpYAwJ0Hlw\" target=\"_blank\">\n",
    "<img src=\"https://img.youtube.com/vi/izpYAwJ0Hlw/maxresdefault.jpg\" alt=\"Estimating Fundamental Matrix\" width=\"300\">\n",
    "</a>\n",
    "\n",
    "<a href=\"https://www.youtube.com/watch?v=erpiFudDBlg\" target=\"_blank\">\n",
    "<img src=\"https://img.youtube.com/vi/erpiFudDBlg/maxresdefault.jpg\" alt=\"Finding Correspondences\" width=\"300\">\n",
    "</a>\n",
    "\n",
    "<a href=\"https://www.youtube.com/watch?v=OYwm4VM6uNg\" target=\"_blank\">\n",
    "<img src=\"https://img.youtube.com/vi/OYwm4VM6uNg/maxresdefault.jpg\" alt=\"Computing Depth\" width=\"300\">\n",
    "</a>"
   ]
  },
  {
   "cell_type": "markdown",
   "id": "8bfb33fb",
   "metadata": {},
   "source": [
    "\t•\tStereo-Kamera: Zwei Kameras, um 3D-Tiefeninformation zu gewinnen\n",
    "\t•\tTime-of-Flight (ToF): Misst direkt die Laufzeit des Lichts → Tiefenbild\n",
    "\t•\tStructured Light: Projiziert Muster zur Tiefenmessung"
   ]
  }
 ],
 "metadata": {
  "language_info": {
   "name": "python"
  }
 },
 "nbformat": 4,
 "nbformat_minor": 5
}
