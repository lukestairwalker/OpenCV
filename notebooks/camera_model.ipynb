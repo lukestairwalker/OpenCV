{
 "cells": [
  {
   "cell_type": "markdown",
   "id": "5195fa14",
   "metadata": {},
   "source": [
    "# How a camera works"
   ]
  },
  {
   "cell_type": "markdown",
   "id": "2a3cfa42",
   "metadata": {},
   "source": [
    "## Pinhole / Linear camera model"
   ]
  },
  {
   "cell_type": "markdown",
   "id": "5c72f113",
   "metadata": {},
   "source": [
    "<a>\n",
    "  <img src=\"https://upload.wikimedia.org/wikipedia/commons/thumb/3/3b/Pinhole-camera.svg/1200px-Pinhole-camera.svg.png\" alt=\"Pinhole camera\" width=\"480\" style=\"background-color: white;padding: 10px;\">\n",
    "</a>"
   ]
  },
  {
   "cell_type": "markdown",
   "id": "38bb7253",
   "metadata": {},
   "source": [
    "The pinhole camera model is the simplest, most widely used theoretical camera model:\n",
    "\n",
    "-  There’s a tiny hole (pinhole) through which light enters.\n",
    "- No lenses or distortions are considered.\n",
    "- The 3D world is projected onto a 2D image plane using straight lines.\n",
    "- It follows a linear projection, described mathematically as: $s \\cdot (x) = (K) \\cdot (R|t) \\cdot (X)$"
   ]
  },
  {
   "cell_type": "markdown",
   "id": "a456edaa",
   "metadata": {},
   "source": [
    "### Extrinsic & intrinsic camera parameters\n",
    "**Camera Pose (position, orientation) & camera calibration matrix**"
   ]
  },
  {
   "cell_type": "markdown",
   "id": "b82cdb7a",
   "metadata": {},
   "source": [
    "<a>\n",
    "  <img src=\"https://docs.nvidia.com/vpi/pinhole_camera.svg\" alt=\"Pinhole camera coordinates\" width=\"480\" style=\"background-color: white; padding: 10px;\"/>\n",
    "</a>"
   ]
  },
  {
   "cell_type": "markdown",
   "id": "545b0d40",
   "metadata": {},
   "source": [
    "<img src=\"../images/camera_coordinates.png\" alt=\"Camera Coordinates\" width=\"480\" style=\"background-color: white;padding: 10px;\"/>"
   ]
  },
  {
   "cell_type": "markdown",
   "id": "dae7a911",
   "metadata": {},
   "source": [
    "#### image coordinates & world coordinates\n",
    "- (u,v) are the 2D image coordinates [in px] of the 3D point which is displayed in the image\n",
    "\n",
    "- (x,y,z) are the 3D coordinates of the point [in m]"
   ]
  },
  {
   "cell_type": "markdown",
   "id": "ab98cdcf",
   "metadata": {},
   "source": [
    "#### extrinsic parameters"
   ]
  },
  {
   "cell_type": "markdown",
   "id": "9c575741",
   "metadata": {},
   "source": [
    "- (R|t) ist eine Matrix, die die Rotation und Translation des Kamerakoordinatensystems relativ zum Weltkoordinatensystem beschreibt."
   ]
  },
  {
   "cell_type": "markdown",
   "id": "351bc4c5",
   "metadata": {},
   "source": [
    "#### intrinsic parameters\n",
    "**K: camera calibration matrix**"
   ]
  },
  {
   "cell_type": "markdown",
   "id": "372e9450",
   "metadata": {},
   "source": [
    "- f: focal length; along z-axis (liegt ursprünglich in Millimeter vor (z. B. 35 mm Objektiv), aber durch die Sensor-Geometrie wird sie in Pixel umgerechnet). Als Faustregel gilt dabei: je kürzer die Brennweite, desto größer der Bildausschnitt.\n",
    "\n",
    "    Die Brennweite f ist also ein Skalierungsfaktor. Nur geht die z-Komponente beim skalieren von 3D auf 2D verloren. Die beiden Skalierungsfaktoren f_x und f_y bleiben jedoch erhalten. Wären Pixel nun perfekt quadratisch, dann wären f_x und f_y gleich groß. Das sind sie jedoch häufig nicht. \n",
    "\n",
    "\n",
    "- c: principal point (theoretically: half of image height/width. Might deviate sligthly due to production tolerances. Gets calculated during camera calibration)"
   ]
  },
  {
   "cell_type": "markdown",
   "id": "52246e96",
   "metadata": {},
   "source": [
    "#### focal lenght"
   ]
  },
  {
   "cell_type": "markdown",
   "id": "380f1b24",
   "metadata": {},
   "source": [
    "**Umrechnung Brennweite mm → Pixel**\n",
    "    \n",
    "$f_{px} = \\frac {f_{mm} \\cdot {w_{image width px}}} {{w_{sensor width mm}}}$"
   ]
  },
  {
   "cell_type": "code",
   "execution_count": 11,
   "id": "8709517c",
   "metadata": {},
   "outputs": [
    {
     "name": "stdout",
     "output_type": "stream",
     "text": [
      "Brennweite in Pixel: 1777.78\n"
     ]
    }
   ],
   "source": [
    "sensor_width_mm = 36  # z.B. Vollformatsensor\n",
    "image_width_px = 1280\n",
    "focal_length_mm = 50\n",
    "\n",
    "f_px = (focal_length_mm * image_width_px) / sensor_width_mm\n",
    "print(f\"Brennweite in Pixel: {f_px:.2f}\")"
   ]
  },
  {
   "cell_type": "markdown",
   "id": "8d450ff8",
   "metadata": {},
   "source": [
    "<a>\n",
    "  <img src=\"https://thedarkroom.com/app/uploads/2019/11/focal-length-angle-view-guide.svg\" alt=\"focal length\" width=\"480\" style=\"background-color: white; padding: 10px;\"/>\n",
    "</a>"
   ]
  },
  {
   "cell_type": "markdown",
   "id": "eac67752",
   "metadata": {},
   "source": [
    "#### Additional information: Scale factor `s` & Skew `a`\n",
    "\n",
    "$s \n",
    "\\cdot \n",
    "\\begin{bmatrix}\n",
    "u \\\\\n",
    "v \\\\\n",
    "1\n",
    "\\end{bmatrix} =\n",
    "\\begin{bmatrix}\n",
    "f_x & a & c_x\\\\\n",
    "0 & f_y & c_y\\\\\n",
    "0 & 0 & 1\\\\\n",
    "\\end{bmatrix}\n",
    "\\cdot\n",
    "\\begin{bmatrix}\n",
    "r_{11} & r_{12} & r_{13} & t_1\\\\\n",
    "r_{21} & r_{22} & r_{23} & t_2\\\\\n",
    "r_{31} & r_{32} & r_{33} & t_3\\\\\n",
    "\\end{bmatrix}\n",
    "\\cdot \n",
    "\\begin{bmatrix}\n",
    "x \\\\\n",
    "y \\\\\n",
    "z \\\\\n",
    "1\n",
    "\\end{bmatrix}\n",
    "$\n",
    "\n",
    "- `s` ist der Skalierungsfaktor für ein Kameramodell. Liegt das Kamerakoordinatensystem im Ursprung (und ist somit das Weltkoordinatensystem) entspricht der Skalierungsfaktor `s` gleich der Tiefe `z`.\n",
    "\n",
    "- `a` ist die Scherung (skew). Wenn die Kamera-Sensor-Zeilen nicht exakt horizontal zur x-Achse verlaufen, entstehen nicht-orthogonale Pixel (z. B. bei alten Scankameras oder Projektionen mit Schräge). Dann ist die Scherung $`a \\neq 0`$. Meist ist `a = 0`, weil moderne Kameras keine Scherung haben.\n"
   ]
  },
  {
   "cell_type": "markdown",
   "id": "6b74632b",
   "metadata": {},
   "source": [
    "## Adding Linses & distortion"
   ]
  },
  {
   "cell_type": "markdown",
   "id": "0688b7f7",
   "metadata": {},
   "source": [
    "<a>\n",
    "  <img src=\"https://learnopencv.com/wp-content/uploads/2019/10/radial-distortions-1024x352.png\n",
    "  \" alt=\"distortions\" width=\"480\" style=\"background-color: white; padding: 10px;\"/>\n",
    "</a>"
   ]
  },
  {
   "cell_type": "markdown",
   "id": "e9452e42",
   "metadata": {},
   "source": [
    "- $\\text{dist} = [k_1, k_2, p_1, p_2, k_3]$: distortion (Verzerrungskoeffizienten -> Bei realen Kameras sehr wichtig – sonst sind gerade Linien im Bild gebogen.)\n",
    "\n",
    "    **Radiale Verzerrung**  \n",
    "    Tritt auf, wenn Lichtstrahlen durch Linsenkrümmung abgelenkt werden. Sichtbar als \"Fischaugen-Effekt\".\n",
    "    - `k1, k2, k3`\n",
    "\n",
    "    **Tangentiale Verzerrung**  \n",
    "    Tritt auf, wenn die Linse nicht perfekt zum Bildsensor ausgerichtet ist. Verursacht asymmetrische Verzerrungen.\n",
    "    - `p1, p2`"
   ]
  },
  {
   "cell_type": "markdown",
   "id": "c6cd7b8e",
   "metadata": {},
   "source": [
    "Youtube Video mit Erklärung:\n",
    "\n",
    "<a href=\"https://www.youtube.com/watch?v=qByYk6JggQU\" target=\"_blank\">\n",
    "<img src=\"https://img.youtube.com/vi/qByYk6JggQU/maxresdefault.jpg\" alt=\"Watch the video\" width=\"500\">\n",
    "</a>"
   ]
  },
  {
   "cell_type": "markdown",
   "id": "a67e9e8b",
   "metadata": {},
   "source": [
    "### Question: How to calculate 3D points from the real world to 2D points in the camera coordinate system. "
   ]
  },
  {
   "cell_type": "code",
   "execution_count": 12,
   "id": "edb8fb19",
   "metadata": {},
   "outputs": [
    {
     "data": {
      "image/png": "[encoded data removed]",
      "text/plain": [
       "<Figure size 600x600 with 1 Axes>"
      ]
     },
     "metadata": {},
     "output_type": "display_data"
    }
   ],
   "source": [
    "import cv2\n",
    "import numpy as np\n",
    "import matplotlib.pyplot as plt\n",
    "\n",
    "# Beispielwerte einer typischen Kamerakalibrierung (in Pixeln)\n",
    "# Diese Werte bekommst du normalerweise durch ein Kalibrier-Skript mit Schachbrett-Bildern\n",
    "\n",
    "# Intrinsische Kameramatrix\n",
    "K = np.array([\n",
    "    [1000, 0, 640],\n",
    "    [0, 1000, 360],\n",
    "    [0, 0, 1]\n",
    "], dtype=np.float32)\n",
    "\n",
    "# Verzerrungskoeffizienten (hier beispielhaft, wichtig für reale Kameras)\n",
    "dist_coeffs = np.array([0.1, -0.05, 0, 0, 0], dtype=np.float32)\n",
    "\n",
    "# Mehrere 3D-Punkte vor der Kamera\n",
    "# Diese Vektoren anpassen\n",
    "points_3D = np.array([\n",
    "    [0, 0, 2],\n",
    "    [0.5, 0.5, 2],\n",
    "    [-0.5, -0.5, 2],\n",
    "    [0.2, -0.3, 2]\n",
    "], dtype=np.float32)\n",
    "\n",
    "# Keine Rotation und Translation\n",
    "rvec = np.zeros(3)\n",
    "tvec = np.zeros(3)\n",
    "\n",
    "# Projektion mit Verzerrung\n",
    "image_points_distorted, _ = cv2.projectPoints(points_3D, rvec, tvec, K, dist_coeffs)\n",
    "\n",
    "# Projektion ohne Verzerrung\n",
    "image_points_undistorted, _ = cv2.projectPoints(points_3D, rvec, tvec, K, None)\n",
    "\n",
    "# Plot\n",
    "plt.figure(figsize=(6, 6))\n",
    "plt.scatter(image_points_undistorted[:, 0, 0], image_points_undistorted[:, 0, 1], color='green', label='Ohne Verzerrung')\n",
    "plt.scatter(image_points_distorted[:, 0, 0], image_points_distorted[:, 0, 1], color='red', label='Mit Verzerrung')\n",
    "plt.xlim(0, 1280)\n",
    "plt.ylim(720, 0)\n",
    "plt.title(\"Projektion von 3D-Punkten ins Bild\")\n",
    "plt.xlabel(\"Pixel X\")\n",
    "plt.ylabel(\"Pixel Y\")\n",
    "plt.legend()\n",
    "plt.grid()\n",
    "plt.show()"
   ]
  },
  {
   "cell_type": "markdown",
   "id": "700f5c89",
   "metadata": {},
   "source": [
    "# Kameramodell und 3D-zu-2D-Projektion\n",
    "\n",
    "In diesem Notebook wird gezeigt, wie ein 3D-Punkt mit bekannten Kameraparametern auf ein 2D-Bild projiziert wird. Dazu wird das **Pinhole-Kameramodell** verwendet.\n",
    "\n",
    "---\n",
    "\n",
    "## 1. Kamerakalibrierung\n",
    "\n",
    "Wir definieren exemplarisch eine Kamera mit folgenden Parametern:\n",
    "\n",
    "- **Intrinsische Matrix (K)**: Enthält Brennweiten und Bildmittelpunkt.\n",
    "- **Verzerrungskoeffizienten**: Modellieren Linsenverzerrungen.\n",
    "\n",
    "---\n",
    "\n",
    "## 2. 3D-Punktprojektion\n",
    "\n",
    "Ein Punkt im 3D-Raum wird mit der OpenCV-Funktion `cv2.projectPoints` auf das 2D-Bild projiziert.\n",
    "\n",
    "---\n",
    "\n",
    "## 3. Ergebnis\n",
    "\n",
    "Die berechneten 2D-Koordinaten zeigen, wo der Punkt im Bild erscheint.\n",
    "\n",
    "---\n",
    "\n",
    "## 4. Nächste Schritte (optional)\n",
    "\n",
    "- Mehrere Punkte projizieren\n",
    "- Einfluss von Verzerrungen visualisieren\n",
    "- Rotations- und Translationsvektoren variieren"
   ]
  }
 ],
 "metadata": {
  "kernelspec": {
   "display_name": "Jupyter notebook 6.4.12",
   "language": "python",
   "name": "python3"
  },
  "language_info": {
   "codemirror_mode": {
    "name": "ipython",
    "version": 3
   },
   "file_extension": ".py",
   "mimetype": "text/x-python",
   "name": "python",
   "nbconvert_exporter": "python",
   "pygments_lexer": "ipython3",
   "version": "3.10.15"
  }
 },
 "nbformat": 4,
 "nbformat_minor": 5
}
