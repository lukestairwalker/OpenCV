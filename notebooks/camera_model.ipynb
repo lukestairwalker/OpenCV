{
 "cells": [
  {
   "cell_type": "markdown",
   "id": "5195fa14",
   "metadata": {},
   "source": [
    "# Pinhole camera model"
   ]
  },
  {
   "cell_type": "markdown",
   "id": "7bc0f5c2",
   "metadata": {},
   "source": [
    "Good explanation video of a pinhole camera: [click here if video below doesnt load](https://www.youtube.com/watch?v=qByYk6JggQU)"
   ]
  },
  {
   "cell_type": "markdown",
   "id": "80f5beb6",
   "metadata": {},
   "source": [
    "<iframe width=\"560\" height=\"315\" src=\"https://www.youtube.com/embed/qByYk6JggQU\" \n",
    "frameborder=\"0\" allow=\"accelerometer; autoplay; clipboard-write; encrypted-media; gyroscope; picture-in-picture\" allowfullscreen>\n",
    "</iframe>"
   ]
  },
  {
   "cell_type": "markdown",
   "id": "545b0d40",
   "metadata": {},
   "source": [
    "<img src=\"../images/camera_coordinates.png\" alt=\"Camera Coordinates\" width=\"560\"/>"
   ]
  },
  {
   "cell_type": "markdown",
   "id": "eac67752",
   "metadata": {},
   "source": [
    "$z \n",
    "\\cdot \n",
    "\\begin{bmatrix}\n",
    "u \\\\\n",
    "v \\\\\n",
    "1\n",
    "\\end{bmatrix} =\n",
    "\\begin{bmatrix}\n",
    "f_x & 0 & c_x\\\\\n",
    "0 & f_y & c_y\\\\\n",
    "0 & 0 & 1\\\\\n",
    "\\end{bmatrix}\n",
    "\\cdot\n",
    "\\begin{bmatrix}\n",
    "r_{11} & r_{12} & r_{13} & t_1\\\\\n",
    "r_{21} & r_{22} & r_{23} & t_2\\\\\n",
    "r_{31} & r_{32} & r_{33} & t_3\\\\\n",
    "\\end{bmatrix}\n",
    "\\cdot \n",
    "\\begin{bmatrix}\n",
    "x \\\\\n",
    "y \\\\\n",
    "z \\\\\n",
    "1\n",
    "\\end{bmatrix}\n",
    "$"
   ]
  },
  {
   "cell_type": "markdown",
   "id": "a67e9e8b",
   "metadata": {},
   "source": [
    "### Question: How to calculate 3D points from the real world to 2D points in the camera coordinate system. \n",
    "\n",
    "Using the camera calibration matrix."
   ]
  },
  {
   "cell_type": "code",
   "execution_count": 1,
   "id": "f7064444",
   "metadata": {},
   "outputs": [
    {
     "name": "stdout",
     "output_type": "stream",
     "text": [
      "2D-Punkt im Bild: [891.7468  460.69873]\n"
     ]
    }
   ],
   "source": [
    "import cv2\n",
    "import numpy as np\n",
    "\n",
    "# Beispielwerte einer typischen Kamerakalibrierung (in Pixeln)\n",
    "# Diese Werte bekommst du normalerweise durch ein Kalibrier-Skript mit Schachbrett-Bildern\n",
    "\n",
    "# Intrinsische Kamera-Matrix\n",
    "K = np.array([\n",
    "    [1000, 0, 640],   # fx, s, cx\n",
    "    [0, 1000, 360],   # 0, fy, cy\n",
    "    [0, 0, 1]\n",
    "])\n",
    "\n",
    "# Verzerrungskoeffizienten (hier beispielhaft, wichtig für reale Kameras)\n",
    "dist_coeffs = np.array([0.1, -0.05, 0, 0, 0])\n",
    "\n",
    "# Simulierter 3D-Punkt in Kamerakoordinaten (z.B. 2 Meter vor der Kamera)\n",
    "point_3D = np.array([[0.5, 0.2, 2.0]], dtype=np.float32)  # X, Y, Z\n",
    "\n",
    "# Projektionsfunktion von OpenCV\n",
    "image_points, _ = cv2.projectPoints(point_3D, rvec=np.zeros(3), tvec=np.zeros(3), cameraMatrix=K, distCoeffs=dist_coeffs)\n",
    "\n",
    "print(\"2D-Punkt im Bild:\", image_points[0][0])"
   ]
  }
 ],
 "metadata": {
  "kernelspec": {
   "display_name": "Jupyter notebook 6.4.12",
   "language": "python",
   "name": "python3"
  },
  "language_info": {
   "codemirror_mode": {
    "name": "ipython",
    "version": 3
   },
   "file_extension": ".py",
   "mimetype": "text/x-python",
   "name": "python",
   "nbconvert_exporter": "python",
   "pygments_lexer": "ipython3",
   "version": "3.10.15"
  }
 },
 "nbformat": 4,
 "nbformat_minor": 5
}
