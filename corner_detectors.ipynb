{
 "cells": [
  {
   "cell_type": "code",
   "execution_count": 1,
   "id": "98013c1f",
   "metadata": {},
   "outputs": [],
   "source": [
    "# import sys\n",
    "# import os\n",
    "# sys.path.append(os.path.abspath('..'))  # geht eine Ebene nach oben im Dateisystem"
   ]
  },
  {
   "cell_type": "code",
   "execution_count": null,
   "id": "96daa926",
   "metadata": {},
   "outputs": [
    {
     "name": "stdout",
     "output_type": "stream",
     "text": [
      "Requirement already satisfied: matplotlib in /opt/anaconda3/envs/Jupyter notebook 6.4.12/lib/python3.10/site-packages (3.10.3)\n",
      "Requirement already satisfied: contourpy>=1.0.1 in /opt/anaconda3/envs/Jupyter notebook 6.4.12/lib/python3.10/site-packages (from matplotlib) (1.3.2)\n",
      "Requirement already satisfied: cycler>=0.10 in /opt/anaconda3/envs/Jupyter notebook 6.4.12/lib/python3.10/site-packages (from matplotlib) (0.12.1)\n",
      "Requirement already satisfied: fonttools>=4.22.0 in /opt/anaconda3/envs/Jupyter notebook 6.4.12/lib/python3.10/site-packages (from matplotlib) (4.58.4)\n",
      "Requirement already satisfied: kiwisolver>=1.3.1 in /opt/anaconda3/envs/Jupyter notebook 6.4.12/lib/python3.10/site-packages (from matplotlib) (1.4.8)\n",
      "Requirement already satisfied: numpy>=1.23 in /opt/anaconda3/envs/Jupyter notebook 6.4.12/lib/python3.10/site-packages (from matplotlib) (2.2.6)\n",
      "Requirement already satisfied: packaging>=20.0 in /opt/anaconda3/envs/Jupyter notebook 6.4.12/lib/python3.10/site-packages (from matplotlib) (24.1)\n",
      "Requirement already satisfied: pillow>=8 in /opt/anaconda3/envs/Jupyter notebook 6.4.12/lib/python3.10/site-packages (from matplotlib) (11.2.1)\n",
      "Requirement already satisfied: pyparsing>=2.3.1 in /opt/anaconda3/envs/Jupyter notebook 6.4.12/lib/python3.10/site-packages (from matplotlib) (3.2.3)\n",
      "Requirement already satisfied: python-dateutil>=2.7 in /opt/anaconda3/envs/Jupyter notebook 6.4.12/lib/python3.10/site-packages (from matplotlib) (2.9.0.post0)\n",
      "Requirement already satisfied: six>=1.5 in /opt/anaconda3/envs/Jupyter notebook 6.4.12/lib/python3.10/site-packages (from python-dateutil>=2.7->matplotlib) (1.16.0)\n",
      "Requirement already satisfied: numpy in /opt/anaconda3/envs/Jupyter notebook 6.4.12/lib/python3.10/site-packages (2.2.6)\n",
      "Requirement already satisfied: opencv-python in /opt/anaconda3/envs/Jupyter notebook 6.4.12/lib/python3.10/site-packages (4.11.0.86)\n",
      "Requirement already satisfied: numpy>=1.21.2 in /opt/anaconda3/envs/Jupyter notebook 6.4.12/lib/python3.10/site-packages (from opencv-python) (2.2.6)\n"
     ]
    }
   ],
   "source": [
    "! pip install matplotlib\n",
    "! pip install numpy\n",
    "! pip install opencv-python"
   ]
  },
  {
   "cell_type": "code",
   "execution_count": 4,
   "id": "bd772b40",
   "metadata": {},
   "outputs": [],
   "source": [
    "import cv2\n",
    "import numpy as np\n",
    "import matplotlib.pyplot as plt\n",
    "from src.moravec import moravec_corner_detector\n",
    "#from corner_detectors.harris import harris_corner_detector\n",
    "\n",
    "# für saubere Darstellung in Jupyter\n",
    "%matplotlib inline"
   ]
  },
  {
   "cell_type": "code",
   "execution_count": 13,
   "id": "3772a950",
   "metadata": {},
   "outputs": [
    {
     "data": {
      "image/png": "[encoded data removed]",
      "text/plain": [
       "<Figure size 640x480 with 1 Axes>"
      ]
     },
     "metadata": {},
     "output_type": "display_data"
    }
   ],
   "source": [
    "# Lade ein Bild in Graustufen\n",
    "img_path = '/Users/thomasschultze/Downloads/OpenCV_Git_clone/OpenCV/images/chess.jpg'  # Pfad zum Bild anpassen, falls nötig\n",
    "img_gray = cv2.imread(img_path, cv2.IMREAD_GRAYSCALE)\n",
    "\n",
    "if img_gray is None:\n",
    "    raise FileNotFoundError(f\"Bild konnte nicht geladen werden: {img_path}\")\n",
    "\n",
    "plt.imshow(img_gray, cmap='gray')\n",
    "plt.title('Original Image')\n",
    "plt.axis('off')\n",
    "plt.show()"
   ]
  },
  {
   "cell_type": "code",
   "execution_count": 14,
   "id": "c97eb395",
   "metadata": {},
   "outputs": [],
   "source": [
    "# Moravec anwenden\n",
    "corner_response = moravec_corner_detector(img_gray, window_size=3, threshold=10000)\n",
    "\n",
    "# Ecken extrahieren (alle Positionen mit Wert > 0)\n",
    "corner_coords = np.argwhere(corner_response > 0)"
   ]
  },
  {
   "cell_type": "code",
   "execution_count": 15,
   "id": "31a5eb50",
   "metadata": {},
   "outputs": [
    {
     "data": {
      "image/png": "[encoded data removed]",
      "text/plain": [
       "<Figure size 640x480 with 1 Axes>"
      ]
     },
     "metadata": {},
     "output_type": "display_data"
    }
   ],
   "source": [
    "# Farbbild zum Anzeigen erzeugen\n",
    "img_vis = cv2.cvtColor(img_gray, cv2.COLOR_GRAY2BGR)\n",
    "\n",
    "# Ecken markieren\n",
    "for y, x in corner_coords:\n",
    "    cv2.circle(img_vis, (x, y), 2, (0, 255, 0), -1)  # kleine grüne Punkte\n",
    "\n",
    "plt.imshow(cv2.cvtColor(img_vis, cv2.COLOR_BGR2RGB))\n",
    "plt.title('Moravec Corners')\n",
    "plt.axis('off')\n",
    "plt.show()"
   ]
  }
 ],
 "metadata": {
  "kernelspec": {
   "display_name": "Python 3",
   "language": "python",
   "name": "python3"
  },
  "language_info": {
   "codemirror_mode": {
    "name": "ipython",
    "version": 3
   },
   "file_extension": ".py",
   "mimetype": "text/x-python",
   "name": "python",
   "nbconvert_exporter": "python",
   "pygments_lexer": "ipython3",
   "version": "3.10.15"
  }
 },
 "nbformat": 4,
 "nbformat_minor": 5
}
